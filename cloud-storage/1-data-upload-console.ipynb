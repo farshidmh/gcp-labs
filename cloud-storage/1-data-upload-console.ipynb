{
 "cells": [
  {
   "cell_type": "markdown",
   "metadata": {},
   "source": [
    "# Lab : Data in the Cloud\n"
   ]
  },
  {
   "cell_type": "markdown",
   "metadata": {},
   "source": [
    "## Overview\n",
    "- Data storage options on the Cloud\n",
    "- Creating a storage bucket\n",
    "- Uploading data into the bucket"
   ]
  },
  {
   "cell_type": "markdown",
   "metadata": {},
   "source": [
    "## Run time\n",
    "10 minutes\n",
    "\n",
    "## Depends on\n",
    "Previously set up Google Account\n"
   ]
  },
  {
   "cell_type": "markdown",
   "metadata": {},
   "source": [
    "---"
   ]
  },
  {
   "cell_type": "markdown",
   "metadata": {},
   "source": [
    "## Step 0 - Instructor:\n",
    "Demo this lab first"
   ]
  },
  {
   "cell_type": "markdown",
   "metadata": {},
   "source": [
    "## Step 1 - Login to Google Cloud Console\n",
    "\n",
    "Go to [console.cloud.google.com](https://console.cloud.google.com)\n",
    "\n",
    "Log into Google account if necessary.\n"
   ]
  },
  {
   "cell_type": "markdown",
   "metadata": {},
   "source": [
    "## Step 2 - Creating a Storage Bucket\n",
    "\n",
    "<img src=\"../assets/images/Data-in_the_Cloud-79897888.png\" style=\"max-width:100%;border-width:3px;  border-style: solid;\" />"
   ]
  },
  {
   "cell_type": "markdown",
   "metadata": {},
   "source": [
    "#### In sidebar scroll to Storage and then select Storage and browser to reach storage page."
   ]
  },
  {
   "cell_type": "markdown",
   "metadata": {},
   "source": [
    "<img src=\"../assets/images/Data-in_the_Cloud-855b475a.png\" style=\"max-width:100%;border-width:3px;  border-style: solid;\" />\n",
    "\n",
    "\n",
    "Create a Bucket by selecting the create bucket button. This will allow us to store objects and data in the cloud."
   ]
  },
  {
   "cell_type": "markdown",
   "metadata": {},
   "source": [
    "<img src=\"../assets/images/Data-in_the_Cloud-c8724833.png\" style=\"max-width:100%;border-width:3px;  border-style: solid;\" />\n",
    "\n",
    "<img src=\"../assets/images/Data-in_the_Cloud-84771294.png\" style=\"max-width:100%;border-width:3px;  border-style: solid;\" />\n",
    "\n",
    "Follow the prompts shown above. You will have to pick a unique name. Typically it is a good idea to use your project id for this.\n",
    "\n",
    "[Bucket naming guidelines](https://cloud.google.com/storage/docs/naming?_ga=2.141536182.-568453010.1550120058)"
   ]
  },
  {
   "cell_type": "markdown",
   "metadata": {},
   "source": [
    "We will be using the settings:\n",
    "1. Location type: Region - us-central1-Iowa\n",
    "2. Default storage location: standard\n",
    "3. Access control: Fine grained\n",
    "4. Encryption: Google-managed key\n",
    "\n",
    "These are the simplest settings if you are accessing your data frequently and can have it hosted in one location for computation. The location in particular will affect data access and certain types of cloud computations. For more information about the specifics of classes and locations, read the below pages:\n",
    "https://cloud.google.com/storage/docs/storage-classes\n",
    "https://cloud.google.com/storage/docs/locations"
   ]
  },
  {
   "cell_type": "markdown",
   "metadata": {},
   "source": [
    "---"
   ]
  },
  {
   "cell_type": "markdown",
   "metadata": {},
   "source": [
    "## Step 3 - Uploading data into the Bucket\n",
    "\n",
    "- Click on the bucket\n",
    "- Select 'upload files',  this will open a file open dialog\n",
    "- Navigate to where you downloaded the data files, pick the data files you want to upload\n",
    "\n",
    "For example the screenshot below shows we are uploading 'flight-data' csv files\n",
    "\n",
    "<img src=\"../assets/images/Data-in_the_Cloud_9.png\" style=\"max-width:100%;border-width:3px;  border-style: solid;\" />"
   ]
  },
  {
   "cell_type": "markdown",
   "metadata": {},
   "source": [
    "Now navigate back to the GCP console and go back your storage bucket that we created in step 3. Select the button that says upload files. Then you will select the files to upload."
   ]
  },
  {
   "cell_type": "markdown",
   "metadata": {},
   "source": [
    "<img src=\"../assets/images/Data-in_the_Cloud-dc42bad2.png\" style=\"max-width:100%;border-width:3px;  border-style: solid;\" />"
   ]
  },
  {
   "cell_type": "markdown",
   "metadata": {},
   "source": [
    "Now we can see the data we just uploaded now in the bucket."
   ]
  },
  {
   "cell_type": "markdown",
   "metadata": {},
   "source": [
    "---"
   ]
  }
 ],
 "metadata": {
  "kernelspec": {
   "display_name": "Python 3",
   "language": "python",
   "name": "python3"
  },
  "language_info": {
   "codemirror_mode": {
    "name": "ipython",
    "version": 3
   },
   "file_extension": ".py",
   "mimetype": "text/x-python",
   "name": "python",
   "nbconvert_exporter": "python",
   "pygments_lexer": "ipython3",
   "version": "3.7.6"
  }
 },
 "nbformat": 4,
 "nbformat_minor": 4
}
