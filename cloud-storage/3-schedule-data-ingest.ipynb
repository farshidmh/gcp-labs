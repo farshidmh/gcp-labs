{
 "cells": [
  {
   "cell_type": "markdown",
   "metadata": {},
   "source": [
    "# Lab : Schedule Data Ingest\n",
    "\n",
    "## Overview\n",
    "We will schedule data download to run periodically.\n",
    "\n",
    "## Run time\n",
    "20 minutes\n",
    "\n",
    "## Depends on\n",
    "[2-data-upload](1-data-upload-console.ipynb)\n",
    "\n",
    "\n",
    "## Step 1- Go to Google Cloud Console\n",
    "\n",
    "## Step 2 - Open Google Cloud Shell and clone repository\n",
    "<img src=\"../assets/images/Setting_up_Cloud_Shell_Lab-2df6f86d.png\" style=\"max-width:100%;border-width:3px;  border-style: solid;\" />\n",
    "\n",
    "The below steps are repurposed from the textbook Data Science on the Google Cloud Platform and we will be using the exmaple code from this source as well. https://learning.oreilly.com/library/view/data-science-on/9781491974551/. You will be creating a Cloud Function that is called using the Cloud Scheduler to periodically update our data.\n"
   ]
  },
  {
   "cell_type": "markdown",
   "metadata": {},
   "source": [
    "Start by cloning the below repository in the Cloud Shell.\n",
    "\n",
    "```bash\n",
    "git clone \\\n",
    "   https://github.com/GoogleCloudPlatform/data-science-on-gcp/\n",
    "```\n",
    "\n",
    "Next we will move into that directory.\n",
    "\n",
    "```bash\n",
    "cd data-science-on-gcp\n",
    "```\n",
    "\n",
    "<img src=\"../assets/images/scheduling-9.png\" style=\"max-width:100%;border-width:3px;  border-style: solid;\" />\n",
    "\n"
   ]
  },
  {
   "cell_type": "markdown",
   "metadata": {},
   "source": [
    "---"
   ]
  },
  {
   "cell_type": "markdown",
   "metadata": {},
   "source": [
    "## Step 3 - Making API calls using Cloud Shell"
   ]
  },
  {
   "cell_type": "markdown",
   "metadata": {},
   "source": [
    "Now we will use the command line in Cloud Shell to make API calls to the BTS and then ingest that data into our bucket.\n"
   ]
  },
  {
   "cell_type": "markdown",
   "metadata": {},
   "source": [
    "Navigate into the monthlyupdate directory and run the ingest_flights script to get the data for the first month of 2016.\n",
    "\n",
    "```bash\n",
    "cd monthlyupdate/\n",
    "\n",
    "bash ingest_flights.py --bucket [bucketname]  --year 2016 --month 01\n",
    "```\n",
    "<img src=\"../assets/images/scheduling-8.png\" style=\"max-width:100%;border-width:3px;  border-style: solid;\" />\n",
    "\n",
    "This will upload the csv for the first month of 2016 flight data into your bucket. From here, you will create a Cloud Function that monthly updates the bucket with a new file by making calls to the BTS."
   ]
  },
  {
   "cell_type": "markdown",
   "metadata": {},
   "source": [
    "---"
   ]
  },
  {
   "cell_type": "markdown",
   "metadata": {},
   "source": [
    "## Step 4 - Creating a Cloud Function \n",
    "\n"
   ]
  },
  {
   "cell_type": "markdown",
   "metadata": {},
   "source": [
    "We will be using two new GCP tools. We will be creating a Cloud Function that runs the script that made our API call in the last section. \n",
    "\n",
    "Then we will use the Scheduler to make periodic calls to the function to update the data stored in our bucket.\n",
    "\n",
    "\n"
   ]
  },
  {
   "cell_type": "markdown",
   "metadata": {},
   "source": [
    "In the monthlyupdate directory in our Cloud Shell environment, we are going to run the generate_token.sh script to create a random access token.\n",
    "\n",
    "```bash\n",
    "./generate_token.sh\n",
    "```\n",
    "<img src=\"../assets/images/scheduling-10.png\" style=\"max-width:100%;border-width:3px;  border-style: solid;\" />"
   ]
  },
  {
   "cell_type": "markdown",
   "metadata": {},
   "source": [
    "Then open main.py and add the token in where the previous token was. It is highlighted below. This will allow us to access our function once it is hosted.\n",
    "\n",
    "\n",
    "<img src=\"../assets/images/scheduling-11.png\" style=\"max-width:100%;border-width:3px;  border-style: solid;\" />"
   ]
  },
  {
   "cell_type": "markdown",
   "metadata": {},
   "source": [
    "Now that we are here. Take a look at the main.py. This is the code of the main function that will execute in the Cloud Function when the url is activated. It is using the functions from ingest_flights.py to download the flight data and then upload it to the bucket.\n",
    "\n",
    "<img src=\"../assets/images/scheduling-13.png\" style=\"max-width:100%;border-width:3px;  border-style: solid;\" />"
   ]
  },
  {
   "cell_type": "markdown",
   "metadata": {},
   "source": [
    "Open deploy_cf.sh and then change the file to reflect the below code:\n",
    "\n",
    "```bash\n",
    "#!/bin/bash\n",
    "\n",
    "URL=ingest_flights\n",
    "echo $URL\n",
    "\n",
    "gcloud functions deploy $URL --runtime python37 --trigger-http --timeout 480s\n",
    "```\n",
    "\n",
    "This will deploy the Cloud Function we are creating to the specified URL."
   ]
  },
  {
   "cell_type": "markdown",
   "metadata": {},
   "source": [
    "\n",
    "<img src=\"../assets/images/scheduling-12.png\" style=\"max-width:100%;border-width:3px;  border-style: solid;\" />"
   ]
  },
  {
   "cell_type": "markdown",
   "metadata": {},
   "source": [
    "Now let's run the script using the command:\n",
    "\n",
    "```bash\n",
    "./deploy_cf.sh\n",
    "```\n",
    "When you are asked to allow unauthenticated invocations of new function, select y for yes."
   ]
  },
  {
   "cell_type": "markdown",
   "metadata": {},
   "source": [
    "<img src=\"../assets/images/scheduling-14.png\" style=\"max-width:100%;border-width:3px;  border-style: solid;\" />"
   ]
  },
  {
   "cell_type": "markdown",
   "metadata": {},
   "source": [
    "It uploads our function that can be called in an API call.\n",
    "\n",
    "We will take a look at the Cloud Function from the Console next.\n",
    "\n",
    "Return to the Google Cloud Platform Console. On the left side, you will now see Cloud Functions on the Resources tab underneath Storage. Click on it to go to the Cloud Functions page.\n",
    "\n",
    "\n",
    "<img src=\"../assets/images/Data_Ingestion_Using_the_Cloud_Shell-e45a65fa.png\" style=\"max-width:100%;border-width:3px;  border-style: solid;\" />"
   ]
  },
  {
   "cell_type": "markdown",
   "metadata": {},
   "source": [
    "You will now see a Function named ingest_flights, select it and double click to open it up.\n",
    "\n",
    "\n",
    "<img src=\"../assets/images/scheduling-15.png\" style=\"max-width:100%;border-width:3px;  border-style: solid;\" />"
   ]
  },
  {
   "cell_type": "markdown",
   "metadata": {},
   "source": [
    " The main page shows usage information.\n",
    "\n",
    "<img src=\"../assets/images/scheduling-16.png\" style=\"max-width:100%;border-width:3px;  border-style: solid;\" />"
   ]
  },
  {
   "cell_type": "markdown",
   "metadata": {},
   "source": [
    " There are additional tabs. Select Trigger and it will show you the full URL of your Cloud Function as well as the trigger type.\n",
    "\n",
    "\n",
    "<img src=\"../assets/images/scheduling-17.png\" style=\"max-width:100%;border-width:3px;  border-style: solid;\" />"
   ]
  },
  {
   "cell_type": "markdown",
   "metadata": {},
   "source": [
    " Now select Source and it will show that all of the scripts present in the monthlyupdate directory have been uploaded for this Cloud Function.\n",
    "\n",
    "\n",
    "<img src=\"../assets/images/scheduling-18.png\" style=\"max-width:100%;border-width:3px;  border-style: solid;\" />"
   ]
  },
  {
   "cell_type": "markdown",
   "metadata": {},
   "source": [
    "---"
   ]
  },
  {
   "cell_type": "markdown",
   "metadata": {},
   "source": [
    "## Step 5 - Creating a Scheduler"
   ]
  },
  {
   "cell_type": "markdown",
   "metadata": {},
   "source": [
    "Upon API call, the function will run the main.py script which has a function call ingest_flights to pull in the flight data for the specified year and month and then upload it into your bucket. If dates are not specified, it will try to get the next month of data based on what it already has.\n",
    "\n",
    "So we will use the Scheduler to call this function to populate the bucket with the new flight data each month.\n",
    "\n",
    "Now let's make a call to the function to see if it works.\n",
    "\n",
    "Go back to the Cloud Shell Environment.\n"
   ]
  },
  {
   "cell_type": "markdown",
   "metadata": {},
   "source": [
    "Open the call_cf.sh script and replace the code with the code below:\n",
    "\n",
    "```bash\n",
    "#!/bin/bash\n",
    "\n",
    "REGION='us-central1'\n",
    "PROJECT=$(gcloud config get-value project)\n",
    "BUCKET=[bucketname]\n",
    "URL=ingest_flights\n",
    "TOKEN=[the token in main.py]\n",
    "\n",
    "echo {\\\"year\\\":\\\"2016\\\"\\,\\\"month\\\":\\\"02\\\"\\,\\\"bucket\\\":\\\"${BUCKET}\\\", \\\"token\\\":\\\"${TOKEN}\\\"} > /tmp/message\n",
    "cat /tmp/message\n",
    "\n",
    "curl -X POST \"https://${REGION}-${PROJECT}.cloudfunctions.net/$URL\" -H \"Content-Type:application/json\" --data-binary @/tmp/message\n",
    "```"
   ]
  },
  {
   "cell_type": "markdown",
   "metadata": {},
   "source": [
    "Make sure to add your bucket and generated token to the appropriate locations.\n",
    "\n",
    "\n",
    "<img src=\"../assets/images/scheduling-19.png\" style=\"max-width:100%;border-width:3px;  border-style: solid;\" />"
   ]
  },
  {
   "cell_type": "markdown",
   "metadata": {},
   "source": [
    "Run the script using\n",
    "```bash\n",
    "./call_cf.sh\n",
    "```\n",
    "\n",
    "<img src=\"../assets/images/scheduling-20.png\" style=\"max-width:100%;border-width:3px;  border-style: solid;\" />"
   ]
  },
  {
   "cell_type": "markdown",
   "metadata": {},
   "source": [
    "This script will make a call to our cloud function through the url we saw on the Cloud Functions page. Then the function will run using the year 2016 and the month 02 as inputs to make the request to the BTS website to download that month of flight data. If successful, we will be able to see a new csv file in our bucket.\n",
    "\n",
    "\n",
    "<img src=\"../assets/images/scheduling-21.png\" style=\"max-width:100%;border-width:3px;  border-style: solid;\" />"
   ]
  },
  {
   "cell_type": "markdown",
   "metadata": {},
   "source": [
    "Now finally, we will create a Scheduler to run this function every month.\n",
    "\n",
    "Open setup_cron.sh and edit the file to reflect the below code:\n",
    "\n",
    "```bash\n",
    "#!/bin/bash\n",
    "\n",
    "REGION='us-central1'\n",
    "PROJECT=$(gcloud config get-value project)\n",
    "BUCKET=[bucketname]\n",
    "\n",
    "URL=\"https://${REGION}-${PROJECT}.cloudfunctions.net/ingest_flights\"\n",
    "TOKEN=[the token in main.py]\n",
    "echo {\\\"bucket\\\":\\\"${BUCKET}\\\", \\\"token\\\":\\\"${TOKEN}\\\"} > /tmp/message\n",
    "\n",
    "gcloud pubsub topics create cron-topic\n",
    "gcloud pubsub subscriptions create cron-sub --topic cron-topic\n",
    "\n",
    "gcloud beta scheduler jobs create http monthlyupdate \\\n",
    "       --schedule=\"8 of month 10:00\" \\\n",
    "       --uri=$URL \\\n",
    "       --max-backoff=7d \\\n",
    "       --max-retry-attempts=5 \\\n",
    "       --max-retry-duration=3h \\\n",
    "       --min-backoff=1h \\\n",
    "       --time-zone=\"US/Eastern\" \\\n",
    "       --message-body-from-file=/tmp/message\n",
    "```\n",
    "\n"
   ]
  },
  {
   "cell_type": "markdown",
   "metadata": {},
   "source": [
    "Again make sure to add in your bucket name and the token in the appropriate locations.\n",
    "\n",
    "\n",
    "\n",
    "<img src=\"../assets/images/scheduling-22.png\" style=\"max-width:100%;border-width:3px;  border-style: solid;\" />"
   ]
  },
  {
   "cell_type": "markdown",
   "metadata": {},
   "source": [
    "Now we will run the script:\n",
    "\n",
    "```bash\n",
    "./setup_cron\n",
    "```\n",
    "\n",
    "<img src=\"../assets/images/scheduling-23.png\" style=\"max-width:100%;border-width:3px;  border-style: solid;\" />\n",
    "\n",
    "This script uses the gcloud function to create a cron topic, cron subcription, and scheduler job with the specified settings. Specifically, it will make a call to our ingest_flights Cloud Function on the 8th of every month at 10:00 which serves the purpose of checking the BTS for new data every month.\n"
   ]
  },
  {
   "cell_type": "markdown",
   "metadata": {},
   "source": [
    "---"
   ]
  },
  {
   "cell_type": "markdown",
   "metadata": {},
   "source": [
    "## Step 6 - Verify Scheduler and clean up"
   ]
  },
  {
   "cell_type": "markdown",
   "metadata": {},
   "source": [
    "Return to the GCP Console. Select the drop down menu in the top left and scroll down to Tools and then select Cloud Scheduler.\n",
    "\n",
    "<img src=\"../assets/images/Data_Ingestion_Using_the_Cloud_Shell-424feff8.png\" style=\"max-width:100%;border-width:3px;  border-style: solid;\" />\n"
   ]
  },
  {
   "cell_type": "markdown",
   "metadata": {},
   "source": [
    "We can now see the scheduled job of the name monthlyupdate with the target URL of our Cloud Function."
   ]
  },
  {
   "cell_type": "markdown",
   "metadata": {},
   "source": [
    "We are done with the Scheduler and Function for now. So we will now delete both.\n",
    "\n",
    "Select the check box and then select delete.\n",
    "\n",
    "\n",
    "<img src=\"../assets/images/scheduling-25.png\" style=\"max-width:100%;border-width:3px;  border-style: solid;\" />\n"
   ]
  },
  {
   "cell_type": "markdown",
   "metadata": {},
   "source": [
    "Then go back into the Cloud Functions and delete that function.\n",
    "\n",
    "<img src=\"../assets/images/scheduling-26.png\" style=\"max-width:100%;border-width:3px;  border-style: solid;\" />\n",
    "\n",
    "Now go into the search bar and search subscriptions to get to the Pub/Sub page.\n",
    "\n",
    "<img src=\"../assets/images/scheduling-27.png\" style=\"max-width:100%;border-width:3px;  border-style: solid;\" />\n",
    "\n",
    "We will now delete our cron-subcription and cron-topic to finish cleaning everything up.\n",
    "\n",
    "\n",
    "<img src=\"../assets/images/scheduling-28.png\" style=\"max-width:100%;border-width:3px;  border-style: solid;\" />\n"
   ]
  }
 ],
 "metadata": {
  "kernelspec": {
   "display_name": "Python 3",
   "language": "python",
   "name": "python3"
  },
  "language_info": {
   "codemirror_mode": {
    "name": "ipython",
    "version": 3
   },
   "file_extension": ".py",
   "mimetype": "text/x-python",
   "name": "python",
   "nbconvert_exporter": "python",
   "pygments_lexer": "ipython3",
   "version": "3.7.4"
  }
 },
 "nbformat": 4,
 "nbformat_minor": 2
}
